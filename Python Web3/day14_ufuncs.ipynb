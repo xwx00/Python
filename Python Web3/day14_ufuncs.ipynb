{
 "cells": [
  {
   "cell_type": "markdown",
   "id": "aa197f28",
   "metadata": {},
   "source": [
    "NumPy ufuncs\n",
    "================\n"
   ]
  },
  {
   "cell_type": "markdown",
   "id": "4f0aaa85",
   "metadata": {},
   "source": [
    "What are ufuncs?\n",
    "-----------------\n",
    "Ufuncs, or \"universal functions\", are a core feature of NumPy that allow for element-wise operations on arrays. They are implemented in C for performance and can handle broadcasting, type casting, and several other features."
   ]
  },
  {
   "cell_type": "markdown",
   "id": "e1c247db",
   "metadata": {},
   "source": [
    "Why use ufuncs?\n",
    "----------------\n",
    "ufuncs are used to implement vectorization in NumPy which is way faster than iterating over elements.\n",
    "\n",
    "They also provide broadcasting and additional methods like reduce, accumulate etc. that are very helpful for computation.\n",
    "\n",
    "ufuncs also take additional arguments, like:\n",
    "\n",
    "where boolean array or condition defining where the operations should take place.\n",
    "\n",
    "dtype defining the return type of elements.\n",
    "\n",
    "out output array where the return value should be copied."
   ]
  },
  {
   "cell_type": "markdown",
   "id": "3a1afcad",
   "metadata": {},
   "source": [
    "What is vectorization?\n",
    "-----------------\n",
    "Converting iterative statements into a vector based operation is called vectorization.\n",
    "\n",
    "It is faster as modern CPUs are optimized for such operations."
   ]
  },
  {
   "cell_type": "code",
   "execution_count": null,
   "id": "abdf5ec1",
   "metadata": {},
   "outputs": [
    {
     "name": "stdout",
     "output_type": "stream",
     "text": [
      "[ 5  7  9 11]\n"
     ]
    }
   ],
   "source": [
    "# Example\n",
    "import numpy as np\n",
    "\n",
    "x = [1, 2, 3, 4]\n",
    "y = [4, 5, 6, 7]\n",
    "z = np.add(x, y)\n",
    "\n",
    "print(z)"
   ]
  },
  {
   "cell_type": "markdown",
   "id": "b584348e",
   "metadata": {},
   "source": [
    "Create your own ufunc\n",
    "-----------------\n",
    "You can create your own ufunc using the numpy.frompyfunc() function. Here's an example:\n",
    "\n",
    "```python\n",
    "import numpy as np\n",
    "\n",
    "def my_add(x, y):\n",
    "    return x + y\n",
    "\n",
    "my_ufunc = np.frompyfunc(my_add, 2, 1)\n",
    "\n",
    "x = np.array([1, 2, 3])\n",
    "y = np.array([4, 5, 6])\n",
    "z = my_ufunc(x, y)\n",
    "\n",
    "print(z)"
   ]
  },
  {
   "cell_type": "code",
   "execution_count": 3,
   "id": "d40e7a1a",
   "metadata": {},
   "outputs": [
    {
     "name": "stdout",
     "output_type": "stream",
     "text": [
      "[6 8 10 12]\n"
     ]
    }
   ],
   "source": [
    "import numpy as np\n",
    "\n",
    "def myadd(x, y):\n",
    "  return x+y\n",
    "\n",
    "myadd = np.frompyfunc(myadd, 2, 1)\n",
    "\n",
    "print(myadd([1, 2, 3, 4], [5, 6, 7, 8]))"
   ]
  },
  {
   "cell_type": "markdown",
   "id": "ead21262",
   "metadata": {},
   "source": [
    "Simple Arithmetic ufuncs\n",
    "-----------------\n",
    "NumPy provides several built-in ufuncs for basic arithmetic operations:"
   ]
  },
  {
   "cell_type": "code",
   "execution_count": 4,
   "id": "a03ef001",
   "metadata": {},
   "outputs": [
    {
     "name": "stdout",
     "output_type": "stream",
     "text": [
      "[30 32 34 36 38 40]\n"
     ]
    }
   ],
   "source": [
    "import numpy as np\n",
    "\n",
    "arr1 = np.array([10, 11, 12, 13, 14, 15])\n",
    "arr2 = np.array([20, 21, 22, 23, 24, 25])\n",
    "\n",
    "newarr = np.add(arr1, arr2)\n",
    "\n",
    "print(newarr)"
   ]
  },
  {
   "cell_type": "code",
   "execution_count": 5,
   "id": "ec365355",
   "metadata": {},
   "outputs": [
    {
     "name": "stdout",
     "output_type": "stream",
     "text": [
      "[-10  -1   8  17  26  35]\n"
     ]
    }
   ],
   "source": [
    "import numpy as np\n",
    "\n",
    "arr1 = np.array([10, 20, 30, 40, 50, 60])\n",
    "arr2 = np.array([20, 21, 22, 23, 24, 25])\n",
    "\n",
    "newarr = np.subtract(arr1, arr2)\n",
    "\n",
    "print(newarr)"
   ]
  },
  {
   "cell_type": "markdown",
   "id": "e1869fb2",
   "metadata": {},
   "source": [
    "We can use all the arithmetic operators like +, -, *, /, //, %, ** directly on NumPy arrays element-wise."
   ]
  },
  {
   "cell_type": "markdown",
   "id": "c07694a9",
   "metadata": {},
   "source": [
    "Rounding Decimals\n",
    "-----------------\n"
   ]
  },
  {
   "cell_type": "code",
   "execution_count": 6,
   "id": "99440250",
   "metadata": {},
   "outputs": [
    {
     "name": "stdout",
     "output_type": "stream",
     "text": [
      "[-3.  3.]\n",
      "3.17\n",
      "[-4.  3.]\n",
      "[-3.  4.]\n"
     ]
    }
   ],
   "source": [
    "import numpy as np\n",
    "\n",
    "arr = np.trunc([-3.1666, 3.6667])\n",
    "\n",
    "print(arr)\n",
    "\n",
    "arr = np.around(3.1666, 2)\n",
    "\n",
    "print(arr)\n",
    "\n",
    "arr = np.floor([-3.1666, 3.6667])\n",
    "\n",
    "print(arr)\n",
    "\n",
    "arr = np.ceil([-3.1666, 3.6667])\n",
    "\n",
    "print(arr)"
   ]
  },
  {
   "cell_type": "markdown",
   "id": "334a0a81",
   "metadata": {},
   "source": [
    "Summation and Product\n",
    "-----------------\n"
   ]
  },
  {
   "cell_type": "code",
   "execution_count": null,
   "id": "a654ce74",
   "metadata": {},
   "outputs": [
    {
     "name": "stdout",
     "output_type": "stream",
     "text": [
      "12\n",
      "[6 6]\n"
     ]
    }
   ],
   "source": [
    "import numpy as np\n",
    "\n",
    "arr1 = np.array([1, 2, 3])\n",
    "arr2 = np.array([1, 2, 3])\n",
    "\n",
    "newarr = np.sum([arr1, arr2])\n",
    "\n",
    "print(newarr)\n",
    "\n",
    "arr1 = np.array([1, 2, 3])\n",
    "arr2 = np.array([1, 2, 3])\n",
    "\n",
    "newarr = np.sum([arr1, arr2], axis=1)\n",
    "\n",
    "\n",
    "print(newarr)"
   ]
  },
  {
   "cell_type": "code",
   "execution_count": 12,
   "id": "0afa7ccb",
   "metadata": {},
   "outputs": [
    {
     "name": "stdout",
     "output_type": "stream",
     "text": [
      "24\n",
      "40320\n"
     ]
    }
   ],
   "source": [
    "import numpy as np\n",
    "\n",
    "arr = np.array([1, 2, 3, 4])\n",
    "\n",
    "x = np.prod(arr)\n",
    "\n",
    "print(x)\n",
    "\n",
    "arr1 = np.array([1, 2, 3, 4])\n",
    "arr2 = np.array([5, 6, 7, 8])\n",
    "\n",
    "x = np.prod([arr1, arr2])\n",
    "\n",
    "print(x)"
   ]
  },
  {
   "cell_type": "markdown",
   "id": "7eb73f13",
   "metadata": {},
   "source": [
    "Finding LCM (lowest common multiple) and GCD (greatest common divisor)\n",
    "-----------------------------------------------------------------------\n"
   ]
  },
  {
   "cell_type": "code",
   "execution_count": 16,
   "id": "a1e63427",
   "metadata": {},
   "outputs": [
    {
     "name": "stdout",
     "output_type": "stream",
     "text": [
      "12\n",
      "18\n"
     ]
    }
   ],
   "source": [
    "import numpy as np\n",
    "\n",
    "num1 = 4\n",
    "num2 = 6\n",
    "\n",
    "x = np.lcm(num1, num2)\n",
    "\n",
    "print(x)\n",
    "\n",
    "arr = np.array([3, 6, 9])\n",
    "\n",
    "x = np.lcm.reduce(arr)\n",
    "\n",
    "print(x)"
   ]
  },
  {
   "cell_type": "code",
   "execution_count": 23,
   "id": "6e256b98",
   "metadata": {},
   "outputs": [
    {
     "name": "stdout",
     "output_type": "stream",
     "text": [
      "3\n",
      "4\n"
     ]
    }
   ],
   "source": [
    "import numpy as np\n",
    "\n",
    "num1 = 6\n",
    "num2 = 9\n",
    "\n",
    "x = np.gcd(num1, num2)\n",
    "\n",
    "print(x)\n",
    "\n",
    "arr = np.array([20, 8, 32, 36, 16])\n",
    "\n",
    "x = np.gcd.reduce(arr)\n",
    "\n",
    "print(x)"
   ]
  },
  {
   "cell_type": "markdown",
   "id": "92e49c22",
   "metadata": {},
   "source": [
    "Set Operations\n",
    "----------------\n",
    "We can perform set operations like union, intersection, difference, and symmetric difference using NumPy ufuncs."
   ]
  },
  {
   "cell_type": "code",
   "execution_count": 24,
   "id": "d7f924d4",
   "metadata": {},
   "outputs": [
    {
     "name": "stdout",
     "output_type": "stream",
     "text": [
      "[1 2 3 4 5 6 7]\n"
     ]
    }
   ],
   "source": [
    "import numpy as np\n",
    "\n",
    "arr = np.array([1, 1, 1, 2, 3, 4, 5, 5, 6, 7])\n",
    "\n",
    "x = np.unique(arr)\n",
    "\n",
    "print(x)"
   ]
  },
  {
   "cell_type": "markdown",
   "id": "b810d5ed",
   "metadata": {},
   "source": [
    "What is a correct syntax to check the number of dimensions in an array?\n",
    "----------------\n",
    "arr.ndim()    Your answer  \n",
    "\n",
    "arr.ndim    Correct answer  \n",
    "\n",
    "arr.dim()\n",
    "\n",
    "arr.dim"
   ]
  },
  {
   "cell_type": "markdown",
   "id": "1cea7358",
   "metadata": {},
   "source": [
    "What is a correct syntax to return the shape of an array?\n",
    "----------------\n",
    "arr.shape()    Your answer\n",
    "\n",
    "arr.shape    Correct answer\n",
    "\n",
    "arr.dim()\n",
    "\n",
    "arr.dimensions"
   ]
  }
 ],
 "metadata": {
  "kernelspec": {
   "display_name": "base",
   "language": "python",
   "name": "python3"
  },
  "language_info": {
   "codemirror_mode": {
    "name": "ipython",
    "version": 3
   },
   "file_extension": ".py",
   "mimetype": "text/x-python",
   "name": "python",
   "nbconvert_exporter": "python",
   "pygments_lexer": "ipython3",
   "version": "3.13.5"
  }
 },
 "nbformat": 4,
 "nbformat_minor": 5
}
