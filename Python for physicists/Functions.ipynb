{
 "cells": [
  {
   "cell_type": "code",
   "execution_count": 3,
   "id": "ba7ed1c2",
   "metadata": {},
   "outputs": [
    {
     "name": "stdout",
     "output_type": "stream",
     "text": [
      "digitsL18\n",
      "Factors:  [1831, 190585048308289]\n",
      "Time taken: 1.052542 seconds\n"
     ]
    }
   ],
   "source": [
    "import math as mt\n",
    "import time\n",
    "\n",
    "#--------------------------------\n",
    "# Input Number to factorize\n",
    "\n",
    "num = input(\"Enter a number to factorize: \")\n",
    "start = time.time()\n",
    "\n",
    "#--------------------------------\n",
    "n = int(num)\n",
    "print('digitsL{:d}'.format(len(num)))\n",
    "\n",
    "#--------------------------------\n",
    "# limit to largest factor\n",
    "sqnf = mt.ceil(mt.sqrt(float(n)))\n",
    "#--------------------------------\n",
    "# creat empty list of factors\n",
    "factors = []\n",
    "#--------------------------------\n",
    "# check for number of 2s that divide n\n",
    "while n % 2 == 0:\n",
    "    factors.append(2)\n",
    "    n = n // 2\n",
    "    sqnf = mt.ceil(mt.sqrt(float(n)))\n",
    "#--------------------------------\n",
    "# check if divisible by odd numbers from 3 to sqnf\n",
    "i = 3\n",
    "while i<=sqnf:\n",
    "    while n%i == 0:\n",
    "        factors.append(i)\n",
    "        n = n // i\n",
    "        sqnf = mt.ceil(mt.sqrt(float(n)))\n",
    "    i += 2\n",
    "\n",
    "#--------------------------------\n",
    "# last factor\n",
    "if n != 1:\n",
    "    factors.append(n)\n",
    "\n",
    "end = time.time()\n",
    "#--------------------------------\n",
    "print('Factors: ', factors)\n",
    "print('Time taken: {:.6f} seconds'.format(end - start))\n",
    "#--------------------------------\n"
   ]
  },
  {
   "cell_type": "markdown",
   "id": "96e83ec6",
   "metadata": {},
   "source": [
    "We can turn the script above into a function to ouput the first 20 prime numebrs.\n",
    " "
   ]
  },
  {
   "cell_type": "code",
   "execution_count": 1,
   "id": "6a9064d1",
   "metadata": {},
   "outputs": [
    {
     "name": "stdout",
     "output_type": "stream",
     "text": [
      "1 []\n",
      "2 is prime\n",
      "3 is prime\n",
      "4 [2, 2]\n",
      "5 is prime\n",
      "6 [2, 3]\n",
      "7 is prime\n",
      "8 [2, 2, 2]\n",
      "9 [3, 3]\n",
      "10 [2, 5]\n",
      "11 is prime\n",
      "12 [2, 2, 3]\n",
      "13 is prime\n",
      "14 [2, 7]\n",
      "15 [3, 5]\n",
      "16 [2, 2, 2, 2]\n",
      "17 is prime\n",
      "18 [2, 3, 3]\n",
      "19 is prime\n",
      "20 [2, 2, 5]\n"
     ]
    }
   ],
   "source": [
    "import math as mt\n",
    "\n",
    "def factorize(n):\n",
    "    sqnf = mt.ceil(mt.sqrt(float(n)))\n",
    "    factors = []\n",
    "    while n % 2 == 0:\n",
    "        factors.append(2)\n",
    "        n = n // 2\n",
    "    i = 3\n",
    "    while i <= sqnf:\n",
    "        while n % i == 0:\n",
    "            factors.append(i)\n",
    "            n = n // i\n",
    "            sqnf = mt.ceil(mt.sqrt(float(n)))\n",
    "        i += 2\n",
    "    if n != 1:\n",
    "        factors.append(n)\n",
    "    return factors\n",
    "\n",
    "\n",
    "# output the prime numbers\n",
    "for i in range(1, 21):\n",
    "    fact = factorize(i)\n",
    "    if len(fact) == 1 and fact[0] == i:\n",
    "        print(i,\"is prime\")\n",
    "    else:\n",
    "        print(i,fact)"
   ]
  },
  {
   "cell_type": "markdown",
   "id": "cd948733",
   "metadata": {},
   "source": [
    "Write the logarithms of the first 20 natural numbers into a binary file called \"logar.bin\"."
   ]
  },
  {
   "cell_type": "code",
   "execution_count": 2,
   "id": "e2c6e507",
   "metadata": {},
   "outputs": [],
   "source": [
    "import numpy as np\n",
    "from struct import pack\n",
    "\n",
    "n = 1\n",
    "with open('logar.bin','wb') as hnd:\n",
    "    while n<= 20:\n",
    "        buff = pack('=id',n,np.log(float(n)))\n",
    "        hnd.write(buff)\n",
    "        n += 1"
   ]
  },
  {
   "cell_type": "markdown",
   "id": "d01bd5e3",
   "metadata": {},
   "source": [
    "Read the binary file \"logar.bin\" and print the contents to the screen.\n"
   ]
  },
  {
   "cell_type": "code",
   "execution_count": 3,
   "id": "17615ef4",
   "metadata": {},
   "outputs": [
    {
     "name": "stdout",
     "output_type": "stream",
     "text": [
      "    1     0.0000000000000000\n",
      "    2     0.6931471805599453\n",
      "    3     1.0986122886681098\n",
      "    4     1.3862943611198906\n",
      "    5     1.6094379124341003\n",
      "    6     1.7917594692280550\n",
      "    7     1.9459101490553132\n",
      "    8     2.0794415416798357\n",
      "    9     2.1972245773362196\n",
      "   10     2.3025850929940459\n",
      "   11     2.3978952727983707\n",
      "   12     2.4849066497880004\n",
      "   13     2.5649493574615367\n",
      "   14     2.6390573296152584\n",
      "   15     2.7080502011022101\n",
      "   16     2.7725887222397811\n",
      "   17     2.8332133440562162\n",
      "   18     2.8903717578961645\n",
      "   19     2.9444389791664403\n",
      "   20     2.9957322735539909\n"
     ]
    }
   ],
   "source": [
    "import numpy as np\n",
    "from struct import unpack,calcsize\n",
    "\n",
    "num = []\n",
    "lognum = []\n",
    "FieldSize = calcsize('=id')\n",
    "with open('logar.bin','rb') as hnd:\n",
    "    while True:\n",
    "        buff = hnd.read(FieldSize)\n",
    "        if len(buff) < FieldSize:\n",
    "            break\n",
    "        n,logn = unpack('=id',buff)\n",
    "        num.append(n)\n",
    "        lognum.append(logn)\n",
    "        print(f'{n:5d} {logn:22.16f}')\n",
    "    \n",
    "with open('logar.txt','w') as hnd:\n",
    "    for i,x in enumerate(lognum):\n",
    "        hnd.write(f'{num[i]:5d} {x:22.16f}\\n')"
   ]
  },
  {
   "cell_type": "code",
   "execution_count": 4,
   "id": "d7bfb06f",
   "metadata": {},
   "outputs": [],
   "source": [
    "import numpy as np\n",
    "from struct import pack\n",
    "\n",
    "i = 1\n",
    "with open('StringsInBin.bin', 'wb') as hnd:\n",
    "    # ...................................................... write text\n",
    "    buff = pack('=25s', bytes('This is a comment'.encode()))\n",
    "    hnd.write(buff)\n",
    "    hnd.seek(25)\n",
    "    buff = pack('=25s', bytes('This is another comment'.encode()))\n",
    "    hnd.write(buff)\n",
    "    hnd.seek(50)\n",
    "    buff = pack('=25s', bytes(' n ln(n)'.encode()))\n",
    "    hnd.write(buff)\n",
    "    hnd.seek(50)  # Note: This seek is redundant after the previous seek(50)\n",
    "    # ............................................... write binary data\n",
    "    hnd.seek(75)\n",
    "    while i <= 20:\n",
    "        sqrti = np.sqrt(float(i))\n",
    "        buff = pack('=id', i, sqrti)\n",
    "        hnd.write(buff)\n",
    "        i += 1"
   ]
  },
  {
   "cell_type": "code",
   "execution_count": null,
   "id": "4504462b",
   "metadata": {},
   "outputs": [],
   "source": [
    "import numpy as np\n",
    "from struct import unpack, calcsize\n",
    "\n",
    "# ...................................................................\n",
    "with open('StringsInBin.bin', 'rb') as hnd:\n",
    "    # ....................................................... read text\n",
    "    buff = hnd.read(calcsize('=25s'))\n",
    "    text = buff.decode().rstrip(chr(0))\n",
    "    print(text, len(text))\n",
    "    hnd.seek(calcsize('=25s'))\n",
    "    buff = hnd.read(calcsize('=25s'))\n",
    "    text = buff.decode().rstrip(chr(0))\n",
    "    print(text, len(text))\n",
    "    hnd.seek(50)\n",
    "    buff = hnd.read(calcsize('=25s'))\n",
    "    text = buff.decode().rstrip(chr(0))\n",
    "    print(text)\n",
    "    # ................................................ read binary data\n",
    "    hnd.seek(3 * calcsize('=25s'))\n",
    "    while True:\n",
    "        buff1 = hnd.read(calcsize('=id'))\n",
    "        if len(buff1) < calcsize('=id'):\n",
    "            break\n",
    "        n, sqn = unpack('=id', buff1)\n",
    "        print(f'{n:5d} {sqn:22.17f}')"
   ]
  },
  {
   "cell_type": "code",
   "execution_count": 5,
   "id": "3621d2a7",
   "metadata": {},
   "outputs": [
    {
     "name": "stdout",
     "output_type": "stream",
     "text": [
      "This is a comment 17\n",
      "This is another comment 23\n",
      " n ln(n)\n",
      "    1    1.00000000000000000\n",
      "    2    1.41421356237309515\n",
      "    3    1.73205080756887719\n",
      "    4    2.00000000000000000\n",
      "    5    2.23606797749978981\n",
      "    6    2.44948974278317788\n",
      "    7    2.64575131106459072\n",
      "    8    2.82842712474619029\n",
      "    9    3.00000000000000000\n",
      "   10    3.16227766016837952\n",
      "   11    3.31662479035539981\n",
      "   12    3.46410161513775439\n",
      "   13    3.60555127546398912\n",
      "   14    3.74165738677394133\n",
      "   15    3.87298334620741702\n",
      "   16    4.00000000000000000\n",
      "   17    4.12310562561766059\n",
      "   18    4.24264068711928477\n",
      "   19    4.35889894354067398\n",
      "   20    4.47213595499957961\n"
     ]
    }
   ],
   "source": [
    "import numpy as np\n",
    "from struct import unpack, calcsize\n",
    "\n",
    "# ...................................................................\n",
    "with open('StringsInBin.bin', 'rb') as hnd:\n",
    "    # ....................................................... read text\n",
    "    buff = hnd.read(calcsize('=25s'))\n",
    "    text = buff.decode().rstrip(chr(0))\n",
    "    print(text, len(text))\n",
    "    hnd.seek(calcsize('=25s'))\n",
    "    buff = hnd.read(calcsize('=25s'))\n",
    "    text = buff.decode().rstrip(chr(0))\n",
    "    print(text, len(text))\n",
    "    hnd.seek(50)\n",
    "    buff = hnd.read(calcsize('=25s'))\n",
    "    text = buff.decode().rstrip(chr(0))\n",
    "    print(text)\n",
    "    # ................................................ read binary data\n",
    "    hnd.seek(3 * calcsize('=25s'))\n",
    "    while True:\n",
    "        buff1 = hnd.read(calcsize('=id'))\n",
    "        if len(buff1) < calcsize('=id'):\n",
    "            break\n",
    "        n, sqn = unpack('=id', buff1)\n",
    "        print(f'{n:5d} {sqn:22.17f}')"
   ]
  },
  {
   "cell_type": "code",
   "execution_count": 6,
   "id": "edb10840",
   "metadata": {},
   "outputs": [
    {
     "data": {
      "text/plain": [
       "1"
      ]
     },
     "execution_count": 6,
     "metadata": {},
     "output_type": "execute_result"
    }
   ],
   "source": [
    "import os\n",
    "os.system('vlc')"
   ]
  },
  {
   "cell_type": "code",
   "execution_count": 10,
   "id": "f7939c7b",
   "metadata": {},
   "outputs": [
    {
     "name": "stdout",
     "output_type": "stream",
     "text": [
      "120\n",
      " 1            1\n",
      " 2            2\n",
      " 3            6\n",
      " 4           24\n",
      " 5          120\n",
      " 6          720\n",
      " 7         5040\n",
      " 8        40320\n",
      " 9       362880\n",
      "10      3628800\n"
     ]
    }
   ],
   "source": [
    "import math as mt\n",
    "\n",
    "def factorial(n):\n",
    "    result = 1\n",
    "    if n == 0 or n == 1:\n",
    "        return 1\n",
    "    else:\n",
    "        while n>=1:\n",
    "            result *= n\n",
    "            n -= 1\n",
    "        return result\n",
    "\n",
    "fact = factorial(5)\n",
    "print(fact)\n",
    "\n",
    "for x in range(1,11):\n",
    "    print(f'{x:2d} {factorial(x):12d}')"
   ]
  },
  {
   "cell_type": "code",
   "execution_count": 15,
   "id": "4fc62113",
   "metadata": {},
   "outputs": [
    {
     "name": "stdout",
     "output_type": "stream",
     "text": [
      "Roots are: -0.227636+0.000000j and -1.647364+0.000000j\n"
     ]
    }
   ],
   "source": [
    "import cmath as cm\n",
    "\n",
    "a = float(input(\"input a: \"))\n",
    "b = float(input(\"input b: \"))\n",
    "c = float(input(\"input c: \"))\n",
    "\n",
    "if a == 0:\n",
    "    print(\"This is not a quadratic equation (a cannot be 0).\")\n",
    "else:\n",
    "    d = b**2 - 4*a*c\n",
    "    x1 = (-b + cm.sqrt(d)) / (2*a)\n",
    "    x2 = (-b - cm.sqrt(d)) / (2*a)\n",
    "    print(f'Roots are: {x1:.6f} and {x2:.6f}')"
   ]
  },
  {
   "cell_type": "code",
   "execution_count": null,
   "id": "9c705415",
   "metadata": {},
   "outputs": [
    {
     "name": "stdout",
     "output_type": "stream",
     "text": [
      "            1\n",
      "           1   1\n",
      "          1   2   1\n",
      "         1   3   3   1\n",
      "        1   4   6   4   1\n",
      "       1   5  10  10   5   1\n",
      "      1   6  15  20  15   6   1\n",
      "     1   7  21  35  35  21   7   1\n",
      "    1   8  28  56  70  56  28   8   1\n",
      "   1   9  36  84 126 126  84  36   9   1\n"
     ]
    }
   ],
   "source": [
    "import numpy as np\n",
    "\n",
    "# Pascal's Triangle\n",
    "n = 10\n",
    "arr = np.zeros((n, n), dtype=int)\n",
    "\n",
    "for i in range(n):\n",
    "    arr[i, 0] = 1\n",
    "    for j in range(1, i + 1):\n",
    "        arr[i, j] = arr[i - 1, j - 1] + arr[i - 1, j]\n",
    "\n",
    "# Print in triangular form\n",
    "for i in range(n):\n",
    "    # Print leading spaces for centering\n",
    "    print(' ' * (n - i - 1), end='')\n",
    "    for j in range(i + 1):\n",
    "        print(f'{arr[i, j]:4d}', end='')\n",
    "    print()"
   ]
  }
 ],
 "metadata": {
  "kernelspec": {
   "display_name": "base",
   "language": "python",
   "name": "python3"
  },
  "language_info": {
   "codemirror_mode": {
    "name": "ipython",
    "version": 3
   },
   "file_extension": ".py",
   "mimetype": "text/x-python",
   "name": "python",
   "nbconvert_exporter": "python",
   "pygments_lexer": "ipython3",
   "version": "3.13.5"
  }
 },
 "nbformat": 4,
 "nbformat_minor": 5
}
