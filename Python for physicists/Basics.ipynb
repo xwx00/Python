{
 "cells": [
  {
   "cell_type": "code",
   "execution_count": 1,
   "id": "a622e344",
   "metadata": {},
   "outputs": [
    {
     "name": "stdout",
     "output_type": "stream",
     "text": [
      " x == y is False\n"
     ]
    }
   ],
   "source": [
    "x = 0\n",
    "y = 15\n",
    "z = 20\n",
    "print(' x == y is', x == y)"
   ]
  },
  {
   "cell_type": "code",
   "execution_count": 4,
   "id": "b097b79a",
   "metadata": {},
   "outputs": [
    {
     "data": {
      "text/plain": [
       "array([0. , 0.2, 0.4, 0.6, 0.8, 1. , 1.2, 1.4, 1.6, 1.8, 2. , 2.2, 2.4,\n",
       "       2.6, 2.8, 3. , 3.2, 3.4])"
      ]
     },
     "execution_count": 4,
     "metadata": {},
     "output_type": "execute_result"
    }
   ],
   "source": [
    "from math import sqrt\n",
    "import numpy as np\n",
    "\n",
    "sqrt(4)\n",
    "\n",
    "x = np.arange(0,3.6,0.2)\n",
    "\n",
    "x\n"
   ]
  },
  {
   "cell_type": "code",
   "execution_count": 5,
   "id": "1db97081",
   "metadata": {},
   "outputs": [
    {
     "data": {
      "text/plain": [
       "'dog'"
      ]
     },
     "execution_count": 5,
     "metadata": {},
     "output_type": "execute_result"
    }
   ],
   "source": [
    "MyOtherDict=dict(Katze='cat',Hund='dog',Schnabeltier='platypus')\n",
    "\n",
    "MyOtherDict['Hund']"
   ]
  },
  {
   "cell_type": "code",
   "execution_count": 8,
   "id": "2693e960",
   "metadata": {},
   "outputs": [
    {
     "name": "stdout",
     "output_type": "stream",
     "text": [
      "The number of digits in 2**64 is 20\n"
     ]
    }
   ],
   "source": [
    "import math as mt\n",
    "\n",
    "mt.pow(5,1/3)\n",
    "# count the number of digits in 2**64\n",
    "x = 2**64\n",
    "counter = 0;\n",
    "while x > 0:\n",
    "    x = x//10\n",
    "    counter += 1\n",
    "\n",
    "print(\"The number of digits in 2**64 is\", counter)"
   ]
  },
  {
   "cell_type": "code",
   "execution_count": 14,
   "id": "3ec7b815",
   "metadata": {},
   "outputs": [
    {
     "name": "stdout",
     "output_type": "stream",
     "text": [
      "be to not or be To\n"
     ]
    }
   ],
   "source": [
    "word = \"To be or not to be\"\n",
    "word_splited = word.split()\n",
    "\n",
    "word_reversed = word_splited.reverse()\n",
    "\n",
    "output = ' '.join(word_splited)\n",
    "\n",
    "print(str(output))"
   ]
  },
  {
   "cell_type": "code",
   "execution_count": 17,
   "id": "8546dbdf",
   "metadata": {},
   "outputs": [
    {
     "name": "stdout",
     "output_type": "stream",
     "text": [
      " 1   1.000\n",
      " 2   1.414\n",
      " 3   1.732\n",
      " 4   2.000\n",
      " 5   2.236\n",
      " 6   2.449\n",
      " 7   2.646\n",
      " 8   2.828\n",
      " 9   3.000\n",
      "10   3.162\n"
     ]
    }
   ],
   "source": [
    "import numpy as np\n",
    "\n",
    "x = np.arange(1,11)\n",
    "x_sqrt = np.sqrt(x)\n",
    "\n",
    "\n",
    "ii = 0\n",
    "\n",
    "while ii < len(x):\n",
    "    print(f\"{x[ii]:2d}  {x_sqrt[ii]:6.3f}\")\n",
    "    ii += 1"
   ]
  },
  {
   "cell_type": "code",
   "execution_count": null,
   "id": "f4a1cc76",
   "metadata": {},
   "outputs": [
    {
     "name": "stdout",
     "output_type": "stream",
     "text": [
      "[10, 11, 12, 13, 14, 15, 26, 27, 28, 29]\n",
      "0xa\n",
      "0xb\n",
      "0xc\n",
      "0xd\n",
      "0xe\n",
      "0xf\n",
      "0x1a\n",
      "0x1b\n",
      "0x1c\n",
      "0x1d\n"
     ]
    }
   ],
   "source": [
    "\n",
    "alphabet = 'abcdef'\n",
    "alphabet_list = list(alphabet)\n",
    "\n",
    "num = []\n",
    "ii = 0\n",
    " \n",
    "while len(num) < 10:\n",
    "    g = hex(ii)\n",
    "    \n",
    "    if g[-1] in alphabet_list:\n",
    "        num.append(ii)\n",
    "    \n",
    "    ii += 1\n",
    "\n",
    "print(num)\n",
    "\n",
    "for i in num:\n",
    "    print(hex(i))"
   ]
  }
 ],
 "metadata": {
  "kernelspec": {
   "display_name": "base",
   "language": "python",
   "name": "python3"
  },
  "language_info": {
   "codemirror_mode": {
    "name": "ipython",
    "version": 3
   },
   "file_extension": ".py",
   "mimetype": "text/x-python",
   "name": "python",
   "nbconvert_exporter": "python",
   "pygments_lexer": "ipython3",
   "version": "3.13.5"
  }
 },
 "nbformat": 4,
 "nbformat_minor": 5
}
