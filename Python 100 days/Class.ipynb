{
 "cells": [
  {
   "cell_type": "markdown",
   "id": "ea28caae",
   "metadata": {},
   "source": [
    "# 可见性和属性装饰器\n",
    "在很多面向对象编程语言中，对象的属性通常会被设置为私有（private）或受保护（protected）的成员，简单的说就是不允许直接访问这些属性；对象的方法通常都是公开的（public），因为公开的方法是对象能够接受的消息，也是对象暴露给外界的调用接口，这就是所谓的访问可见性。在 Python 中，可以通过给对象属性名添加前缀下划线的方式来说明属性的访问可见性，例如，可以用__name表示一个私有属性，_name表示一个受保护属性，代码如下所示。"
   ]
  },
  {
   "cell_type": "code",
   "execution_count": 12,
   "id": "b763f25e",
   "metadata": {},
   "outputs": [
    {
     "name": "stdout",
     "output_type": "stream",
     "text": [
      "王大锤正在学习Python程序设计.\n"
     ]
    },
    {
     "ename": "AttributeError",
     "evalue": "'Student' object has no attribute '__name'",
     "output_type": "error",
     "traceback": [
      "\u001b[31m---------------------------------------------------------------------------\u001b[39m",
      "\u001b[31mAttributeError\u001b[39m                            Traceback (most recent call last)",
      "\u001b[36mCell\u001b[39m\u001b[36m \u001b[39m\u001b[32mIn[12]\u001b[39m\u001b[32m, line 13\u001b[39m\n\u001b[32m     11\u001b[39m stu = Student(\u001b[33m'\u001b[39m\u001b[33m王大锤\u001b[39m\u001b[33m'\u001b[39m, \u001b[32m20\u001b[39m)\n\u001b[32m     12\u001b[39m stu.study(\u001b[33m'\u001b[39m\u001b[33mPython程序设计\u001b[39m\u001b[33m'\u001b[39m)\n\u001b[32m---> \u001b[39m\u001b[32m13\u001b[39m \u001b[38;5;28mprint\u001b[39m(\u001b[43mstu\u001b[49m\u001b[43m.\u001b[49m\u001b[43m__name\u001b[49m)  \u001b[38;5;66;03m# AttributeError: 'Student' object has no attribute '__name'\u001b[39;00m\n",
      "\u001b[31mAttributeError\u001b[39m: 'Student' object has no attribute '__name'"
     ]
    }
   ],
   "source": [
    "class Student:\n",
    "\n",
    "    def __init__(self, name, age):\n",
    "        self.__name = name\n",
    "        self.__age = age\n",
    "\n",
    "    def study(self, course_name):\n",
    "        print(f'{self.__name}正在学习{course_name}.')\n",
    "\n",
    "\n",
    "stu = Student('王大锤', 20)\n",
    "stu.study('Python程序设计')\n",
    "print(stu.__name)  # AttributeError: 'Student' object has no attribute '__name'"
   ]
  },
  {
   "cell_type": "code",
   "execution_count": null,
   "id": "06a74ebd",
   "metadata": {},
   "outputs": [
    {
     "name": "stdout",
     "output_type": "stream",
     "text": [
      "周长: 12\n",
      "面积: 6.0\n"
     ]
    }
   ],
   "source": [
    "# Use property to make the function become atrributes\n",
    "class Triangle(object):\n",
    "    \"\"\"三角形\"\"\"\n",
    "\n",
    "    def __init__(self, a, b, c):\n",
    "        \"\"\"初始化方法\"\"\"\n",
    "        self.a = a\n",
    "        self.b = b\n",
    "        self.c = c\n",
    "\n",
    "    @staticmethod\n",
    "    def is_valid(a, b, c):\n",
    "        \"\"\"判断三条边长能否构成三角形(静态方法)\"\"\"\n",
    "        return a + b > c and b + c > a and a + c > b\n",
    "\n",
    "    @property\n",
    "    def perimeter(self):\n",
    "        \"\"\"计算周长\"\"\"\n",
    "        return self.a + self.b + self.c\n",
    "\n",
    "    @property\n",
    "    def area(self):\n",
    "        \"\"\"计算面积\"\"\"\n",
    "        p = self.perimeter / 2\n",
    "        return (p * (p - self.a) * (p - self.b) * (p - self.c)) ** 0.5\n",
    "\n",
    "\n",
    "t = Triangle(3, 4, 5)\n",
    "print(f'周长: {t.perimeter}')\n",
    "print(f'面积: {t.area}')"
   ]
  },
  {
   "cell_type": "markdown",
   "id": "7c45b7b6",
   "metadata": {},
   "source": [
    "简单起见，我们的扑克只有52张牌（没有大小王），游戏需要将 52 张牌发到 4 个玩家的手上，每个玩家手上有 13 张牌，按照黑桃、红心、草花、方块的顺序和点数从小到大排列，暂时不实现其他的功能。"
   ]
  },
  {
   "cell_type": "code",
   "execution_count": 16,
   "id": "c6dc1008",
   "metadata": {},
   "outputs": [
    {
     "name": "stdout",
     "output_type": "stream",
     "text": [
      "Suite.SPADE: 0\n",
      "Suite.HEART: 1\n",
      "Suite.CLUB: 2\n",
      "Suite.DIAMOND: 3\n",
      "♠5\n",
      "♥K\n",
      "[♠A, ♠2, ♠3, ♠4, ♠5, ♠6, ♠7, ♠8, ♠9, ♠10, ♠J, ♠Q, ♠K, ♥A, ♥2, ♥3, ♥4, ♥5, ♥6, ♥7, ♥8, ♥9, ♥10, ♥J, ♥Q, ♥K, ♣A, ♣2, ♣3, ♣4, ♣5, ♣6, ♣7, ♣8, ♣9, ♣10, ♣J, ♣Q, ♣K, ♦A, ♦2, ♦3, ♦4, ♦5, ♦6, ♦7, ♦8, ♦9, ♦10, ♦J, ♦Q, ♦K]\n",
      "[♥K, ♥8, ♦10, ♥3, ♦3, ♠A, ♥2, ♦7, ♦8, ♠Q, ♥Q, ♠7, ♥A, ♦K, ♠2, ♣3, ♦A, ♦J, ♦5, ♠3, ♣7, ♠6, ♠J, ♠8, ♣5, ♥10, ♣10, ♣2, ♥7, ♣Q, ♣4, ♠5, ♦2, ♣J, ♣K, ♣9, ♥4, ♠9, ♥6, ♦9, ♣A, ♠4, ♣6, ♥J, ♥9, ♦Q, ♥5, ♠K, ♣8, ♦6, ♠10, ♦4]\n",
      "东邪: [♠7, ♠8, ♠J, ♠Q, ♠K, ♥7, ♣6, ♣7, ♣9, ♦2, ♦3, ♦J, ♦Q]\n",
      "西毒: [♠A, ♠2, ♠4, ♠5, ♠9, ♥A, ♥2, ♥3, ♥8, ♥10, ♥J, ♦7, ♦K]\n",
      "南帝: [♠3, ♠6, ♥6, ♥9, ♥Q, ♣4, ♣5, ♣8, ♣10, ♣Q, ♣K, ♦5, ♦10]\n",
      "北丐: [♠10, ♥4, ♥5, ♥K, ♣A, ♣2, ♣3, ♣J, ♦A, ♦4, ♦6, ♦8, ♦9]\n"
     ]
    }
   ],
   "source": [
    "from enum import Enum\n",
    "\n",
    "\n",
    "class Suite(Enum):\n",
    "    \"\"\"花色(枚举)\"\"\"\n",
    "    SPADE, HEART, CLUB, DIAMOND = range(4)\n",
    "\n",
    "\n",
    "for suite in Suite:\n",
    "    print(f'{suite}: {suite.value}')\n",
    "\n",
    "class Card:\n",
    "    \"\"\"牌\"\"\"\n",
    "\n",
    "    def __init__(self, suite, face):\n",
    "        self.suite = suite\n",
    "        self.face = face\n",
    "\n",
    "    def __lt__(self, other):\n",
    "        \"\"\"定义小于运算符，用于排序\"\"\"\n",
    "        if self.suite != other.suite:\n",
    "            return self.suite.value < other.suite.value\n",
    "        return self.face < other.face\n",
    "\n",
    "    def __repr__(self):\n",
    "        suites = '♠♥♣♦'\n",
    "        faces = ['', 'A', '2', '3', '4', '5', '6', '7', '8', '9', '10', 'J', 'Q', 'K']\n",
    "        return f'{suites[self.suite.value]}{faces[self.face]}'  # 返回牌的花色和点数\n",
    "\n",
    "\n",
    "card1 = Card(Suite.SPADE, 5)\n",
    "card2 = Card(Suite.HEART, 13)\n",
    "print(card1)  # ♠5 \n",
    "print(card2)  # ♥K\n",
    "\n",
    "\n",
    "import random\n",
    "\n",
    "\n",
    "class Poker:\n",
    "    \"\"\"扑克\"\"\"\n",
    "\n",
    "    def __init__(self):\n",
    "        self.cards = [Card(suite, face) \n",
    "                      for suite in Suite\n",
    "                      for face in range(1, 14)]  # 52张牌构成的列表\n",
    "        self.current = 0  # 记录发牌位置的属性\n",
    "\n",
    "    def shuffle(self):\n",
    "        \"\"\"洗牌\"\"\"\n",
    "        self.current = 0\n",
    "        random.shuffle(self.cards)  # 通过random模块的shuffle函数实现随机乱序\n",
    "\n",
    "    def deal(self):\n",
    "        \"\"\"发牌\"\"\"\n",
    "        card = self.cards[self.current]\n",
    "        self.current += 1\n",
    "        return card\n",
    "\n",
    "    @property\n",
    "    def has_next(self):\n",
    "        \"\"\"还有没有牌可以发\"\"\"\n",
    "        return self.current < len(self.cards)\n",
    "\n",
    "poker = Poker()\n",
    "print(poker.cards)  # 洗牌前的牌\n",
    "poker.shuffle()\n",
    "print(poker.cards)  # 洗牌后的牌\n",
    "\n",
    "class Player:\n",
    "    \"\"\"玩家\"\"\"\n",
    "\n",
    "    def __init__(self, name):\n",
    "        self.name = name\n",
    "        self.cards = []  # 玩家手上的牌\n",
    "\n",
    "    def get_one(self, card):\n",
    "        \"\"\"摸牌\"\"\"\n",
    "        self.cards.append(card)\n",
    "\n",
    "    def arrange(self):\n",
    "        \"\"\"整理手上的牌\"\"\"\n",
    "        self.cards.sort()\n",
    "\n",
    "\n",
    "poker = Poker()\n",
    "poker.shuffle()\n",
    "players = [Player('东邪'), Player('西毒'), Player('南帝'), Player('北丐')]\n",
    "# 将牌轮流发到每个玩家手上每人13张牌\n",
    "for _ in range(13):\n",
    "    for player in players:\n",
    "        player.get_one(poker.deal())\n",
    "# 玩家整理手上的牌输出名字和手牌\n",
    "for player in players:\n",
    "    player.arrange()\n",
    "    print(f'{player.name}: ', end='')\n",
    "    print(player.cards)"
   ]
  }
 ],
 "metadata": {
  "kernelspec": {
   "display_name": "base",
   "language": "python",
   "name": "python3"
  },
  "language_info": {
   "codemirror_mode": {
    "name": "ipython",
    "version": 3
   },
   "file_extension": ".py",
   "mimetype": "text/x-python",
   "name": "python",
   "nbconvert_exporter": "python",
   "pygments_lexer": "ipython3",
   "version": "3.13.5"
  }
 },
 "nbformat": 4,
 "nbformat_minor": 5
}
