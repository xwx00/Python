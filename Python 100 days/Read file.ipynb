{
 "cells": [
  {
   "cell_type": "markdown",
   "id": "7a3aa951",
   "metadata": {},
   "source": [
    "CSV（Comma Separated Values）全称逗号分隔值文件是一种简单、通用的文件格式，被广泛的应用于应用程序（数据库、电子表格等）数据的导入和导出以及异构系统之间的数据交换。因为CSV是纯文本文件，不管是什么操作系统和编程语言都是可以处理纯文本的，而且很多编程语言中都提供了对读写CSV文件的支持，因此CSV格式在数据处理和数据科学中被广泛应用。"
   ]
  },
  {
   "cell_type": "code",
   "execution_count": 3,
   "id": "99aa9cb8",
   "metadata": {},
   "outputs": [],
   "source": [
    "import csv\n",
    "import random\n",
    "\n",
    "with open('scores.csv','w') as file:\n",
    "    #writer = csv.writer(file)\n",
    "    writer = csv.writer(file, delimiter='|', quoting=csv.QUOTE_ALL)\n",
    "    writer.writerow(['name','chinese','math','english'])\n",
    "    names = ['a','b','c','d','e']\n",
    "    for name in names:\n",
    "        scores = [random.randrange(50,101) for _ in range(3)]\n",
    "        scores.insert(0,name)\n",
    "        writer.writerow(scores)\n",
    "    "
   ]
  },
  {
   "cell_type": "code",
   "execution_count": 5,
   "id": "95288a1a",
   "metadata": {},
   "outputs": [
    {
     "name": "stdout",
     "output_type": "stream",
     "text": [
      "1\tname\tchinese\tmath\tenglish\t\n",
      "2\t\n",
      "3\ta\t84\t75\t100\t\n",
      "4\t\n",
      "5\tb\t61\t58\t89\t\n",
      "6\t\n",
      "7\tc\t73\t87\t55\t\n",
      "8\t\n",
      "9\td\t87\t57\t67\t\n",
      "10\t\n",
      "11\te\t67\t70\t85\t\n",
      "12\t\n"
     ]
    }
   ],
   "source": [
    "import csv\n",
    "\n",
    "with open('scores.csv','r') as file:\n",
    "    reader = csv.reader(file, delimiter = '|')\n",
    "    for data_list in reader:\n",
    "        print(reader.line_num, end = '\\t')\n",
    "        for elem in data_list:\n",
    "            print(elem, end = '\\t')\n",
    "        print()"
   ]
  }
 ],
 "metadata": {
  "kernelspec": {
   "display_name": "base",
   "language": "python",
   "name": "python3"
  },
  "language_info": {
   "codemirror_mode": {
    "name": "ipython",
    "version": 3
   },
   "file_extension": ".py",
   "mimetype": "text/x-python",
   "name": "python",
   "nbconvert_exporter": "python",
   "pygments_lexer": "ipython3",
   "version": "3.13.5"
  }
 },
 "nbformat": 4,
 "nbformat_minor": 5
}
