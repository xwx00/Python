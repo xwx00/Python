{
 "cells": [
  {
   "cell_type": "markdown",
   "id": "6b2d4bf4",
   "metadata": {},
   "source": [
    "### 打开和关闭文件\n",
    "\n",
    "有了文件系统，我们可以非常方便的通过文件来读写数据；在Python中要实现文件操作是非常简单的。我们可以使用Python内置的`open`函数来打开文件，在使用`open`函数时，我们可以通过函数的参数指定**文件名**、**操作模式**和**字符编码**等信息，接下来就可以对文件进行读写操作了。这里所说的操作模式是指要打开什么样的文件（字符文件或二进制文件）以及做什么样的操作（读、写或追加），具体如下表所示。\n",
    "\n",
    "| 操作模式 | 具体含义                         |\n",
    "| -------- | -------------------------------- |\n",
    "| `'r'`    | 读取 （默认）                    |\n",
    "| `'w'`    | 写入（会先截断之前的内容）       |\n",
    "| `'x'`    | 写入，如果文件已经存在会产生异常 |\n",
    "| `'a'`    | 追加，将内容写入到已有文件的末尾 |\n",
    "| `'b'`    | 二进制模式                       |\n",
    "| `'t'`    | 文本模式（默认）                 |\n",
    "| `'+'`    | 更新（既可以读又可以写）         |\n",
    "\n",
    "下图展示了如何根据程序的需要来设置`open`函数的操作模式。"
   ]
  },
  {
   "cell_type": "code",
   "execution_count": 1,
   "id": "b3e559a6",
   "metadata": {},
   "outputs": [
    {
     "name": "stdout",
     "output_type": "stream",
     "text": [
      "无法打开指定的文件!\n"
     ]
    }
   ],
   "source": [
    "try:\n",
    "    with open('致橡树.txt', 'r', encoding='utf-8') as file:\n",
    "        print(file.read())\n",
    "except FileNotFoundError:\n",
    "    print('无法打开指定的文件!')\n",
    "except LookupError:\n",
    "    print('指定了未知的编码!')\n",
    "except UnicodeDecodeError:\n",
    "    print('读取文件时解码错误!')"
   ]
  }
 ],
 "metadata": {
  "kernelspec": {
   "display_name": "base",
   "language": "python",
   "name": "python3"
  },
  "language_info": {
   "codemirror_mode": {
    "name": "ipython",
    "version": 3
   },
   "file_extension": ".py",
   "mimetype": "text/x-python",
   "name": "python",
   "nbconvert_exporter": "python",
   "pygments_lexer": "ipython3",
   "version": "3.13.5"
  }
 },
 "nbformat": 4,
 "nbformat_minor": 5
}
