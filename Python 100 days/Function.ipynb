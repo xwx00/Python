{
 "cells": [
  {
   "cell_type": "code",
   "execution_count": 4,
   "id": "74ba6fce",
   "metadata": {},
   "outputs": [],
   "source": [
    "import random\n",
    "import string\n",
    "\n",
    "ALL_CHARS = string.digits + string.ascii_letters\n",
    "\n",
    "\n",
    "def generate_code(*, code_len=4):\n",
    "    \"\"\"\n",
    "    生成指定长度的验证码\n",
    "    :param code_len: 验证码的长度(默认4个字符)\n",
    "    :return: 由大小写英文字母和数字构成的随机验证码字符串\n",
    "    \"\"\"\n",
    "    return ''.join(random.choices(ALL_CHARS, k=code_len))"
   ]
  },
  {
   "cell_type": "code",
   "execution_count": 5,
   "id": "bf16878f",
   "metadata": {},
   "outputs": [
    {
     "name": "stdout",
     "output_type": "stream",
     "text": [
      "VtIJ\n",
      "K2uV\n",
      "HKwE\n",
      "2G8B\n",
      "G6WA\n"
     ]
    }
   ],
   "source": [
    "for _ in range(5):\n",
    "    print(generate_code()) "
   ]
  },
  {
   "cell_type": "code",
   "execution_count": 6,
   "id": "86b670cb",
   "metadata": {},
   "outputs": [],
   "source": [
    "def calc(*args, **kwargs):\n",
    "    items = list(args) + list(kwargs.values())\n",
    "    result = 0\n",
    "    for item in items:\n",
    "        if type(item) in (int, float):\n",
    "            result += item\n",
    "    return result"
   ]
  },
  {
   "cell_type": "code",
   "execution_count": 7,
   "id": "2aeb1d5d",
   "metadata": {},
   "outputs": [
    {
     "name": "stdout",
     "output_type": "stream",
     "text": [
      "[1225, 9801]\n"
     ]
    }
   ],
   "source": [
    "def is_odd(num):\n",
    "    '''Determine if is an odd number'''\n",
    "    return num % 2 == 1\n",
    "\n",
    "\n",
    "def square(num):\n",
    "    \"\"\"求平方\"\"\"\n",
    "    return num ** 2\n",
    "\n",
    "\n",
    "old_nums = [35, 12, 8, 99, 60, 52]\n",
    "new_nums = list(map(square, filter(is_odd, old_nums)))\n",
    "print(new_nums)  # [144, 64, 3600, 2704]"
   ]
  },
  {
   "cell_type": "markdown",
   "id": "1d739452",
   "metadata": {},
   "source": [
    "# Use the function as the parameter\n"
   ]
  },
  {
   "cell_type": "code",
   "execution_count": 8,
   "id": "1b57b51b",
   "metadata": {},
   "outputs": [
    {
     "name": "stdout",
     "output_type": "stream",
     "text": [
      "['in', 'zoo', 'pear', 'apple', 'waxberry']\n"
     ]
    }
   ],
   "source": [
    "old_strings = ['in', 'apple', 'zoo', 'waxberry', 'pear']\n",
    "\n",
    "# We use key=len to sort by length of strings\n",
    "# key is where you pass the function that returns the value to sort by\n",
    "\n",
    "new_strings = sorted(old_strings, key=len)\n",
    "print(new_strings)  # ['in', 'zoo', 'pear', 'apple', 'waxberry']\n"
   ]
  },
  {
   "cell_type": "markdown",
   "id": "2d0b1760",
   "metadata": {},
   "source": [
    "Lambda Function "
   ]
  },
  {
   "cell_type": "code",
   "execution_count": 9,
   "id": "a350a926",
   "metadata": {},
   "outputs": [
    {
     "name": "stdout",
     "output_type": "stream",
     "text": [
      "[144, 64, 3600, 2704]\n"
     ]
    }
   ],
   "source": [
    "old_nums = [35, 12, 8, 99, 60, 52]\n",
    "new_nums = list(map(lambda x: x ** 2, filter(lambda x: x % 2 == 0, old_nums)))\n",
    "print(new_nums)  # [144, 64, 3600, 2704]"
   ]
  },
  {
   "cell_type": "code",
   "execution_count": 10,
   "id": "7f4d1c75",
   "metadata": {},
   "outputs": [
    {
     "name": "stdout",
     "output_type": "stream",
     "text": [
      "720\n",
      "True\n"
     ]
    }
   ],
   "source": [
    "import functools\n",
    "import operator\n",
    "\n",
    "# 用一行代码实现计算阶乘的函数\n",
    "fac = lambda n: functools.reduce(operator.mul, range(2, n + 1), 1)\n",
    "\n",
    "# 用一行代码实现判断素数的函数\n",
    "is_prime = lambda x: all(map(lambda f: x % f, range(2, int(x ** 0.5) + 1)))\n",
    "\n",
    "# 调用Lambda函数\n",
    "print(fac(6))        # 720\n",
    "print(is_prime(37))  # True"
   ]
  },
  {
   "cell_type": "markdown",
   "id": "e7c7ae8b",
   "metadata": {},
   "source": [
    "Decorators"
   ]
  },
  {
   "cell_type": "code",
   "execution_count": 11,
   "id": "afe2afa2",
   "metadata": {},
   "outputs": [
    {
     "name": "stdout",
     "output_type": "stream",
     "text": [
      "开始下载MySQL从删库到跑路.avi.\n",
      "MySQL从删库到跑路.avi下载完成.\n",
      "download执行时间: 0.23秒\n",
      "开始上传Python从入门到住院.pdf.\n",
      "Python从入门到住院.pdf上传完成.\n",
      "upload执行时间: 0.79秒\n"
     ]
    }
   ],
   "source": [
    "import random\n",
    "import time\n",
    "\n",
    "\n",
    "def record_time(func):\n",
    "\n",
    "    def wrapper(*args, **kwargs):\n",
    "        start = time.time()\n",
    "        result = func(*args, **kwargs)\n",
    "        end = time.time()\n",
    "        print(f'{func.__name__}执行时间: {end - start:.2f}秒')\n",
    "        return result\n",
    "\n",
    "    return wrapper\n",
    "\n",
    "\n",
    "@record_time\n",
    "def download(filename):\n",
    "    print(f'开始下载{filename}.')\n",
    "    time.sleep(random.random() * 1)\n",
    "    print(f'{filename}下载完成.')\n",
    "\n",
    "\n",
    "@record_time\n",
    "def upload(filename):\n",
    "    print(f'开始上传{filename}.')\n",
    "    time.sleep(random.random() * 1)\n",
    "    print(f'{filename}上传完成.')\n",
    "\n",
    "\n",
    "download('MySQL从删库到跑路.avi')\n",
    "upload('Python从入门到住院.pdf')\n",
    "\n"
   ]
  },
  {
   "cell_type": "code",
   "execution_count": 14,
   "id": "3ca80ffa",
   "metadata": {},
   "outputs": [
    {
     "name": "stdout",
     "output_type": "stream",
     "text": [
      "<__main__.Student object at 0x000001E5F05D02F0>\n",
      "<__main__.Student object at 0x000001E5EFF951D0>\n",
      "0x1e5f05d02f0 0x1e5eff951d0\n",
      "student is studying Python程序设计\n",
      "student is playing 篮球\n"
     ]
    }
   ],
   "source": [
    "class Student:\n",
    "    def study(self,course_name):\n",
    "        print(f'student is studying {course_name}')\n",
    "    \n",
    "    def play(self,sport_name):\n",
    "        print(f'student is playing {sport_name}')\n",
    "\n",
    "# Create a student object\n",
    "stu1 = Student()\n",
    "stu2 = Student()\n",
    "print(stu1)    # <__main__.Student object at 0x10ad5ac50>\n",
    "print(stu2)    # <__main__.Student object at 0x10ad5acd0> \n",
    "print(hex(id(stu1)), hex(id(stu2)))    # 0x10ad5ac50 0x10ad5acd0\n",
    "stu1.study('Python程序设计')\n",
    "stu1.play('篮球')"
   ]
  },
  {
   "cell_type": "markdown",
   "id": "cb6c9ac8",
   "metadata": {},
   "source": [
    "大家可能已经注意到了，刚才我们创建的学生对象只有行为没有属性，如果要给学生对象定义属性，我们可以修改Student类，为其添加一个名为__init__的方法。在我们调用Student类的构造器创建对象时，首先会在内存中获得保存学生对象所需的内存空间，然后通过自动执行__init__方法，完成对内存的初始化操作，也就是把数据放到内存空间中。所以我们可以通过给Student类添加__init__方法的方式为学生对象指定属性，同时完成对属性赋初始值的操作，正因如此，__init__方法通常也被称为初始化方法。"
   ]
  },
  {
   "cell_type": "code",
   "execution_count": 15,
   "id": "4e919072",
   "metadata": {},
   "outputs": [],
   "source": [
    "class Student:\n",
    "    \"\"\"学生\"\"\"\n",
    "\n",
    "    def __init__(self, name, age):\n",
    "        \"\"\"初始化方法\"\"\"\n",
    "        self.name = name\n",
    "        self.age = age\n",
    "\n",
    "    def study(self, course_name):\n",
    "        \"\"\"学习\"\"\"\n",
    "        print(f'{self.name}正在学习{course_name}.')\n",
    "\n",
    "    def play(self):\n",
    "        \"\"\"玩耍\"\"\"\n",
    "        print(f'{self.name}正在玩游戏.')"
   ]
  },
  {
   "cell_type": "code",
   "execution_count": 16,
   "id": "8ba1ad3d",
   "metadata": {},
   "outputs": [
    {
     "name": "stdout",
     "output_type": "stream",
     "text": [
      "骆昊正在学习Python程序设计.\n",
      "王大锤正在玩游戏.\n"
     ]
    }
   ],
   "source": [
    "# 调用Student类的构造器创建对象并传入初始化参数\n",
    "stu1 = Student('骆昊', 44)\n",
    "stu2 = Student('王大锤', 25)\n",
    "stu1.study('Python程序设计')    # 骆昊正在学习Python程序设计.\n",
    "stu2.play()                    # 王大锤正在玩游戏."
   ]
  }
 ],
 "metadata": {
  "kernelspec": {
   "display_name": "base",
   "language": "python",
   "name": "python3"
  },
  "language_info": {
   "codemirror_mode": {
    "name": "ipython",
    "version": 3
   },
   "file_extension": ".py",
   "mimetype": "text/x-python",
   "name": "python",
   "nbconvert_exporter": "python",
   "pygments_lexer": "ipython3",
   "version": "3.13.5"
  }
 },
 "nbformat": 4,
 "nbformat_minor": 5
}
