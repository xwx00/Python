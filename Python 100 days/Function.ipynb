{
 "cells": [
  {
   "cell_type": "markdown",
   "id": "74ba6fce",
   "metadata": {},
   "source": []
  }
 ],
 "metadata": {
  "language_info": {
   "name": "python"
  }
 },
 "nbformat": 4,
 "nbformat_minor": 5
}
