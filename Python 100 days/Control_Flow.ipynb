{
 "cells": [
  {
   "cell_type": "markdown",
   "id": "e26d6225",
   "metadata": {},
   "source": [
    "不同于 C、C++、Java 等编程语言，Python 中没有用花括号来构造代码块而是使用缩进的方式来表示代码的层次结构，如果if条件成立的情况下需要执行多条语句，只要保持多条语句具有相同的缩进就可以了。换句话说，若干行连续的语句如果保持了相同的缩进，那么它们就属于同一个代码块，相当于是一个执行的整体。缩进可以使用任意数量的空格，但通常使用4个空格，强烈建议大家不要使用制表键（Tab键）来缩进代码，如果你已经习惯了这么做，可以设置你的代码编辑器自动将 1 个制表键变成 4 个空格，很多代码编辑器都支持这项功能，PyCharm 中默认也是这样设定的。"
   ]
  },
  {
   "cell_type": "code",
   "execution_count": 1,
   "id": "d7c654d5",
   "metadata": {},
   "outputs": [
    {
     "name": "stdout",
     "output_type": "stream",
     "text": [
      "2\n",
      "3\n",
      "5\n",
      "7\n",
      "11\n",
      "13\n",
      "17\n",
      "19\n",
      "23\n",
      "29\n",
      "31\n",
      "37\n",
      "41\n",
      "43\n",
      "47\n",
      "53\n",
      "59\n",
      "61\n",
      "67\n",
      "71\n",
      "73\n",
      "79\n",
      "83\n",
      "89\n",
      "97\n"
     ]
    }
   ],
   "source": [
    "\"\"\"\n",
    "输出100以内的素数\n",
    "\n",
    "Version: 1.0\n",
    "Author: 骆昊\n",
    "\"\"\"\n",
    "for num in range(2, 100):\n",
    "    is_prime = True\n",
    "    for i in range(2, int(num ** 0.5) + 1):\n",
    "        if num % i == 0:\n",
    "            is_prime = False\n",
    "            break\n",
    "    if is_prime:\n",
    "        print(num)"
   ]
  },
  {
   "cell_type": "code",
   "execution_count": 2,
   "id": "1e4339b3",
   "metadata": {},
   "outputs": [
    {
     "name": "stdout",
     "output_type": "stream",
     "text": [
      "153\n",
      "370\n",
      "371\n",
      "407\n"
     ]
    }
   ],
   "source": [
    "\"\"\"\n",
    "找出100到999范围内的水仙花数\n",
    "\n",
    "Version: 1.0\n",
    "Author: 骆昊\n",
    "\"\"\"\n",
    "for num in range(100, 1000):\n",
    "    low = num % 10\n",
    "    mid = num // 10 % 10\n",
    "    high = num // 100\n",
    "    if num == low ** 3 + mid ** 3 + high ** 3:\n",
    "        print(num)"
   ]
  }
 ],
 "metadata": {
  "kernelspec": {
   "display_name": "base",
   "language": "python",
   "name": "python3"
  },
  "language_info": {
   "codemirror_mode": {
    "name": "ipython",
    "version": 3
   },
   "file_extension": ".py",
   "mimetype": "text/x-python",
   "name": "python",
   "nbconvert_exporter": "python",
   "pygments_lexer": "ipython3",
   "version": "3.13.5"
  }
 },
 "nbformat": 4,
 "nbformat_minor": 5
}
