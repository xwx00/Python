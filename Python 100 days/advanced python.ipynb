{
 "cells": [
  {
   "cell_type": "code",
   "execution_count": null,
   "id": "b35c49c8",
   "metadata": {},
   "outputs": [],
   "source": [
    "def bubble_sort(items, comp=lambda x, y: x > y):\n",
    "    \"\"\"冒泡排序\"\"\"\n",
    "    items = items[:]\n",
    "    for i in range(len(items) - 1):\n",
    "        swapped = False\n",
    "        for j in range(len(items) - 1 - i):\n",
    "            if comp(items[j], items[j + 1]):\n",
    "                items[j], items[j + 1] = items[j + 1], items[j]\n",
    "                swapped = True\n",
    "        if not swapped:\n",
    "            break\n",
    "    return items"
   ]
  },
  {
   "cell_type": "code",
   "execution_count": null,
   "id": "c4e80cd4",
   "metadata": {},
   "outputs": [],
   "source": [
    "def merge(items1, items2, comp=lambda x, y: x < y):\n",
    "    \"\"\"合并(将两个有序的列表合并成一个有序的列表)\"\"\"\n",
    "    items = []\n",
    "    index1, index2 = 0, 0\n",
    "    while index1 < len(items1) and index2 < len(items2):\n",
    "        if comp(items1[index1], items2[index2]):\n",
    "            items.append(items1[index1])\n",
    "            index1 += 1\n",
    "        else:\n",
    "            items.append(items2[index2])\n",
    "            index2 += 1\n",
    "    items += items1[index1:]\n",
    "    items += items2[index2:]\n",
    "    return items\n",
    "\n",
    "\n",
    "def merge_sort(items, comp=lambda x, y: x < y):\n",
    "    return _merge_sort(list(items), comp)\n",
    "\n",
    "\n",
    "def _merge_sort(items, comp):\n",
    "    \"\"\"归并排序\"\"\"\n",
    "    if len(items) < 2:\n",
    "        return items\n",
    "    mid = len(items) // 2\n",
    "    left = _merge_sort(items[:mid], comp)\n",
    "    right = _merge_sort(items[mid:], comp)\n",
    "    return merge(left, right, comp)"
   ]
  }
 ],
 "metadata": {
  "language_info": {
   "name": "python"
  }
 },
 "nbformat": 4,
 "nbformat_minor": 5
}
