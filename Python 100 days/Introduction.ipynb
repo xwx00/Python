{
 "cells": [
  {
   "cell_type": "code",
   "execution_count": null,
   "id": "6a42d7e4",
   "metadata": {},
   "outputs": [],
   "source": [
    "print(\"Hello, World!\")"
   ]
  },
  {
   "cell_type": "markdown",
   "id": "57320946",
   "metadata": {},
   "source": [
    "# Basic concepts:\n",
    "- Computers hardware: CPU, Memory, Storage, Input/Output devices\n",
    "- Software: System software (OS), Application software (programs)\n",
    "\n",
    "- Python is an interpreted, high-level, general-purpose programming language.\n",
    "\n",
    "# Von Neumann Architecture:\n",
    "1. Input: Data is received from input devices (keyboard, mouse, etc.)\n",
    "2. Processing: The CPU processes the data using the ALU and control unit.\n",
    "3. Output: The processed data is sent to output devices (monitor, printer, etc.).\n",
    "4. Storage: Data is stored in memory (RAM) or secondary storage (hard drive, SSD).\n",
    "5. Control: The control unit manages the execution of instructions.\n",
    "6. Memory: Temporary storage for data and instructions being used by the CPU.\n",
    "7. ALU (Arithmetic Logic Unit): Performs arithmetic and logical operations.\n",
    "8. Registers: Small, fast storage locations within the CPU for immediate data access.\n",
    "9. Bus: A communication system that transfers data between components of the computer.\n",
    "10. Clock: Synchronizes the operations of the CPU and other components.\n",
    "\n",
    "**In Von Neumann architecture, data and instructions are stored in the same memory space.**\n",
    "Data are stored in binary format (0s and 1s).\n",
    "\n",
    "\n",
    "### Python Basics:\n",
    "# Variables: variables are the containers for storing data values.\n",
    "# simply speaking, it is a storage location in memory with a name."
   ]
  },
  {
   "cell_type": "code",
   "execution_count": 1,
   "id": "bfe09153",
   "metadata": {},
   "outputs": [
    {
     "name": "stdout",
     "output_type": "stream",
     "text": [
      "333\n",
      "309\n",
      "3852\n",
      "26.75\n",
      "26\n",
      "9\n",
      "1196906950228928915420617322241\n"
     ]
    }
   ],
   "source": [
    "\"\"\"\n",
    "算术运算符\n",
    "\n",
    "Version: 1.0\n",
    "Author: 骆昊\n",
    "\"\"\"\n",
    "print(321 + 12)     # 加法运算，输出333\n",
    "print(321 - 12)     # 减法运算，输出309\n",
    "print(321 * 12)     # 乘法运算，输出3852\n",
    "print(321 / 12)     # 除法运算，输出26.75\n",
    "print(321 // 12)    # 整除运算，输出26\n",
    "print(321 % 12)     # 求模运算，输出9\n",
    "print(321 ** 12)    # 求幂运算，输出1196906950228928915420617322241"
   ]
  },
  {
   "cell_type": "code",
   "execution_count": 3,
   "id": "fdac6251",
   "metadata": {},
   "outputs": [
    {
     "name": "stdout",
     "output_type": "stream",
     "text": [
      "90.0华氏度 = 32.2摄氏度\n"
     ]
    }
   ],
   "source": [
    "\"\"\"\n",
    "将华氏温度转换为摄氏温度\n",
    "\n",
    "Version: 1.1\n",
    "Author: 骆昊\n",
    "\"\"\"\n",
    "f = float(input('请输入华氏温度: '))\n",
    "c = (f - 32) / 1.8\n",
    "print(f'{f:.1f}华氏度 = {c:.1f}摄氏度')"
   ]
  }
 ],
 "metadata": {
  "kernelspec": {
   "display_name": "base",
   "language": "python",
   "name": "python3"
  },
  "language_info": {
   "codemirror_mode": {
    "name": "ipython",
    "version": 3
   },
   "file_extension": ".py",
   "mimetype": "text/x-python",
   "name": "python",
   "nbconvert_exporter": "python",
   "pygments_lexer": "ipython3",
   "version": "3.13.5"
  }
 },
 "nbformat": 4,
 "nbformat_minor": 5
}
