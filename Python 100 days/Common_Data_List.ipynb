{
 "cells": [
  {
   "cell_type": "markdown",
   "id": "26caa250",
   "metadata": {},
   "source": [
    "# Application of List Comprehensions in Python\n",
    "===========================================\n",
    "Double color balls\n",
    "-----------------\n"
   ]
  },
  {
   "cell_type": "code",
   "execution_count": 10,
   "id": "72150cf1",
   "metadata": {},
   "outputs": [
    {
     "name": "stdout",
     "output_type": "stream",
     "text": [
      "------------------------------\n",
      "\u001b[031m04\u001b[0m \u001b[031m10\u001b[0m \u001b[031m14\u001b[0m \u001b[031m19\u001b[0m \u001b[031m30\u001b[0m \u001b[031m31\u001b[0m | \u001b[034m11\u001b[0m\n",
      "------------------------------\n",
      "\u001b[031m05\u001b[0m \u001b[031m08\u001b[0m \u001b[031m10\u001b[0m \u001b[031m12\u001b[0m \u001b[031m24\u001b[0m \u001b[031m25\u001b[0m | \u001b[034m01\u001b[0m\n",
      "------------------------------\n",
      "\u001b[031m01\u001b[0m \u001b[031m03\u001b[0m \u001b[031m12\u001b[0m \u001b[031m19\u001b[0m \u001b[031m29\u001b[0m \u001b[031m33\u001b[0m | \u001b[034m13\u001b[0m\n",
      "------------------------------\n",
      "\u001b[031m03\u001b[0m \u001b[031m10\u001b[0m \u001b[031m12\u001b[0m \u001b[031m25\u001b[0m \u001b[031m27\u001b[0m \u001b[031m33\u001b[0m | \u001b[034m10\u001b[0m\n",
      "------------------------------\n",
      "\u001b[031m15\u001b[0m \u001b[031m22\u001b[0m \u001b[031m28\u001b[0m \u001b[031m29\u001b[0m \u001b[031m30\u001b[0m \u001b[031m31\u001b[0m | \u001b[034m05\u001b[0m\n"
     ]
    }
   ],
   "source": [
    "import random\n",
    "\n",
    "# Generate a list of red balls (1 to 33) and blue balls (1 to 16)\n",
    "red_balls = [i for i in range(1, 34)]\n",
    "blue_balls = [i for i in range(1, 17)]\n",
    "\n",
    "for _ in range(5):\n",
    "    print('-' * 30)\n",
    "# Randomly select 6 unique red balls and 1 blue ball\n",
    "    selected_red_balls = random.sample(red_balls, 6)\n",
    "    selected_red_balls.sort()\n",
    "\n",
    "    selected_blue_ball = random.choice(blue_balls)\n",
    "\n",
    "# Display the selected balls\n",
    "    for ball in selected_red_balls:\n",
    "        print(f'\\033[031m{ball:0>2d}\\033[0m', end=' ')\n",
    "\n",
    "    print(f'| \\033[034m{selected_blue_ball:0>2d}\\033[0m')"
   ]
  }
 ],
 "metadata": {
  "kernelspec": {
   "display_name": "base",
   "language": "python",
   "name": "python3"
  },
  "language_info": {
   "codemirror_mode": {
    "name": "ipython",
    "version": 3
   },
   "file_extension": ".py",
   "mimetype": "text/x-python",
   "name": "python",
   "nbconvert_exporter": "python",
   "pygments_lexer": "ipython3",
   "version": "3.13.5"
  }
 },
 "nbformat": 4,
 "nbformat_minor": 5
}
