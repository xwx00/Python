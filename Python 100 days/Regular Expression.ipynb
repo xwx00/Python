{
 "cells": [
  {
   "cell_type": "markdown",
   "id": "66886f62",
   "metadata": {},
   "source": [
    "What is regular expressions?\n",
    "========================\n",
    "在编写处理字符串的程序或网页时，经常会有查找符合某些复杂规则的字符串的需要。正则表达式就是用于描述这些规则的工具。换句话说，正则表达式就是记录文本规则的代码"
   ]
  },
  {
   "cell_type": "code",
   "execution_count": null,
   "id": "2ee49395",
   "metadata": {
    "vscode": {
     "languageId": "plaintext"
    }
   },
   "outputs": [],
   "source": [
    "# \\b represents the beginning or ending of a word\n",
    "\n",
    "# 不幸的是，很多单词里包含hi这两个连续的字符，比如him,history,high等等。用hi来查找的话，这里边的hi也会被找出来。如果要精确地查找hi这个单词的话，我们应该使用\\bhi\\b。\n",
    "\n",
    "\n",
    "# \\d represents the number\n",
    "\n",
    "0\\d\\d-\\d\\d\\d\\d\\d\\d\\d\\d匹配这样的字符串：以0开头，然后是两个数字，然后是一个连字号“-”，最后是8个数字(也就是中国的电话号码。当然，这个例子只能匹配区号为3位的情形)。\n",
    "\n",
    "这里的\\d是个新的元字符，匹配一位数字(0，或1，或2，或……)。-不是元字符，只匹配它本身——连字符(或者减号，或者中横线，或者随你怎么称呼它)。\n",
    "\n",
    "为了避免那么多烦人的重复，我们也可以这样写这个表达式：0\\d{2}-\\d{8}。这里\\d后面的{2}({8})的意思是前面\\d必须连续重复匹配2次(8次)。"
   ]
  },
  {
   "cell_type": "markdown",
   "id": "3954ec79",
   "metadata": {},
   "source": [
    "some useful metacharacters\n",
    "========================\n",
    "现在你已经知道几个很有用的元字符了，如\\b,.,*，还有\\d.正则表达式里还有更多的元字符，比如\\s匹配任意的空白符，包括空格，制表符(Tab)，换行符，中文全角空格等。\\w匹配字母或数字或下划线或汉字等"
   ]
  }
 ],
 "metadata": {
  "language_info": {
   "name": "python"
  }
 },
 "nbformat": 4,
 "nbformat_minor": 5
}
